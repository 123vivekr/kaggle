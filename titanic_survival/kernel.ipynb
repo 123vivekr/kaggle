{
  "cells": [
    {
      "metadata": {
        "_uuid": "8f2839f25d086af736a60e9eeb907d3b93b6e0e5",
        "_cell_guid": "b1076dfc-b9ad-4769-8c92-a6c4dae69d19",
        "trusted": true,
        "collapsed": true
      },
      "cell_type": "code",
      "source": "# import libraries\nimport numpy as np\nimport pandas as pd\nimport matplotlib.pyplot as plt",
      "execution_count": 2,
      "outputs": []
    },
    {
      "metadata": {
        "_cell_guid": "79c7e3d0-c299-4dcb-8224-4455121ee9b0",
        "_uuid": "d629ff2d2480ee46fbb7e2d37f6b5fab8052498a",
        "trusted": true,
        "scrolled": false
      },
      "cell_type": "code",
      "source": "# import dataset\ndf = pd.read_csv('../input/train.csv')\ntest = pd.read_csv('../input/test.csv')\n\n# analyse data\n# missing data\ndf['Pclass'].isnull().value_counts()\ndf['Survived'].isnull().value_counts()\n\nsurvivors = df.groupby('Pclass')['Survived'].agg(sum) # passengers survived in each class\n\n# total passengers in each class\ntotal_passengers = df.groupby('Pclass')['PassengerId'].count()\nsurvivor_percentage = survivors / total_passengers\n\n# plotting\nfig = plt.figure()\nax = fig.add_subplot(111)\nrect = ax.bar(survivors.index.values.tolist(), survivors, color='blue', width=0.5)\nax.set_ylabel('No. of survivors')\nax.set_title('Total number of survivors based on class')\nxTickMarks = survivors.index.values.tolist()\nax.set_xticks(survivors.index.values.tolist())\nxtickNames = ax.set_xticklabels(xTickMarks)\nplt.setp(xtickNames, fontsize=20)\nplt.show()\n\n# train data\ny = df.iloc[:, 1].copy()\nX = df[['Pclass', 'Sex', 'Age', 'SibSp', 'Parch', 'Embarked']].copy()\nX.loc[X[\"Sex\"] == \"male\", \"Sex\"] = 0\nX.loc[X[\"Sex\"] == \"female\", \"Sex\"] = 1\n\nX[\"Embarked\"] = X[\"Embarked\"].fillna(\"S\")\nX.loc[X[\"Embarked\"] == \"S\", \"Embarked\"] = 0\nX.loc[X[\"Embarked\"] == \"C\", \"Embarked\"] = 1\nX.loc[X[\"Embarked\"] == \"Q\", \"Embarked\"] = 2\n\n# test data\ny_test = test.iloc[:, 1].copy()\nX_test = test[['Pclass', 'Sex', 'Age', 'SibSp', 'Parch', 'Embarked']].copy()\n\nX_test.loc[X_test[\"Sex\"] == \"male\", \"Sex\"] = 0\nX_test.loc[X_test[\"Sex\"] == \"female\", \"Sex\"] = 1\n\nfrom sklearn.preprocessing import Imputer\nimputer = Imputer(missing_values=\"NaN\", strategy=\"mean\", axis=0)\nimputer = imputer.fit(X.iloc[:, 2:3])\nX.iloc[:, 2:3] = imputer.transform(X.iloc[:, 2:3])\n\nX_test[\"Embarked\"] = X_test[\"Embarked\"].fillna(\"S\")\nX_test.loc[X_test[\"Embarked\"] == \"S\", \"Embarked\"] = 0\nX_test.loc[X_test[\"Embarked\"] == \"C\", \"Embarked\"] = 1\nX_test.loc[X_test[\"Embarked\"] == \"Q\", \"Embarked\"] = 2\n\nimputer_test = Imputer(missing_values=\"NaN\", strategy=\"mean\", axis=0)\nimputer = imputer.fit(X_test.iloc[:, 2:3])\nX_test.iloc[:, 2:3] = imputer.transform(X_test.iloc[:, 2:3])\n\n#feature scaling\nfrom sklearn.preprocessing import StandardScaler\nsc_X = StandardScaler()\nX = sc_X.fit_transform(X)\nX_test = sc_X.transform(X_test)",
      "execution_count": 57,
      "outputs": [
        {
          "output_type": "display_data",
          "data": {
            "text/plain": "<matplotlib.figure.Figure at 0x7f6823216a20>",
            "image/png": "[encoded data removed]"
          },
          "metadata": {}
        },
        {
          "output_type": "stream",
          "text": "/opt/conda/lib/python3.6/site-packages/sklearn/utils/deprecation.py:58: DeprecationWarning: Class Imputer is deprecated; Imputer was deprecated in version 0.20 and will be removed in 0.22. Import impute.SimpleImputer from sklearn instead.\n  warnings.warn(msg, category=DeprecationWarning)\n/opt/conda/lib/python3.6/site-packages/sklearn/utils/deprecation.py:58: DeprecationWarning: Class Imputer is deprecated; Imputer was deprecated in version 0.20 and will be removed in 0.22. Import impute.SimpleImputer from sklearn instead.\n  warnings.warn(msg, category=DeprecationWarning)\n",
          "name": "stderr"
        }
      ]
    },
    {
      "metadata": {
        "trusted": true,
        "_uuid": "0fba9f1ac32948342177cf3d6ea1c3e59e87fbf0",
        "collapsed": true
      },
      "cell_type": "code",
      "source": "fig = plt.figure()\nax = fig.add_subplot(111)\nrect = ax.bar(survivor_percentage.index.values.tolist(), survivor_percentage, color='blue', width=0.5)\nax.set_ylabel('Survivor Percentage')\nax.set_title('Percentage of survivors based on class')\nxTickMarks = survivors.index.values.tolist()\nax.set_xticks(survivors.index.values.tolist())\nxtickNames = ax.set_xticklabels(xTickMarks)\nplt.setp(xtickNames, fontsize=20)\nplt.show()",
      "execution_count": null,
      "outputs": []
    },
    {
      "metadata": {
        "trusted": true,
        "_uuid": "f535ab1ddb0e6a8be0cf8bd246cceb377d7e5c93",
        "collapsed": true
      },
      "cell_type": "code",
      "source": "# male and female survivors based on class\nmale_survivors = df[df['Sex'] == 'male'].groupby('Pclass')['Survived'].agg(sum)\ntotal_male_passengers = df[df['Sex'] == 'male'].groupby('Pclass')['PassengerId'].count()\nmale_survivor_percentage = male_survivors / total_male_passengers\nfemale_survivors = df[df['Sex'] == 'female'].groupby('Pclass')['Survived'].agg(sum)\ntotal_female_passengers = df[df['Sex'] == 'female'].groupby('Pclass')['PassengerId'].count()\nfemale_survivor_percentage = female_survivors / total_female_passengers\n\nfig = plt.figure()\nax = fig.add_subplot(111)\nindex = np.arange(male_survivors.count())\nbar_width = 0.35\nrect = ax.bar(index, male_survivors, bar_width, color='blue', label='men')\nrect2 = ax.bar(index + bar_width, female_survivors, bar_width, color='yellow', label='women')\nax.set_ylabel('Survivor Numbers')\nax.set_title('Male and Female survivors based on class')\nxTickMarks = male_survivors.index.values.tolist()\nax.set_xticks(index+bar_width/2)\nxtickNames = ax.set_xticklabels(xTickMarks)\nplt.setp(xtickNames, fontsize=20)\nplt.legend()\nplt.tight_layout()\nplt.show()",
      "execution_count": null,
      "outputs": []
    },
    {
      "metadata": {
        "trusted": true,
        "_uuid": "5e8125c973a9745438861b7e43a41b897b654c44",
        "collapsed": true
      },
      "cell_type": "code",
      "source": "# percentage male and female survivors based on class\n\nfig = plt.figure()\nax = fig.add_subplot(111)\nindex = np.arange(male_survivor_percentage.count())\nbar_width = 0.35\nrect = ax.bar(index, male_survivor_percentage, bar_width, color='blue', label='men')\nrect2 = ax.bar(index + bar_width, female_survivor_percentage, bar_width, color='yellow', label='women')\nax.set_ylabel('Survivor Numbers')\nax.set_title('Male and Female survivors based on class')\nxTickMarks = male_survivors.index.values.tolist()\nax.set_xticks(index+bar_width/2)\nxtickNames = ax.set_xticklabels(xTickMarks)\nplt.setp(xtickNames, fontsize=20)\nplt.legend()\nplt.tight_layout()\nplt.show()",
      "execution_count": null,
      "outputs": []
    },
    {
      "metadata": {
        "trusted": true,
        "_uuid": "ae6a1c54c51f42f45a2bfbc8cdcb48fe99b4b3b6",
        "collapsed": true
      },
      "cell_type": "code",
      "source": "# total number of nonsurvivors with family based on class\n",
      "execution_count": null,
      "outputs": []
    },
    {
      "metadata": {
        "trusted": true,
        "collapsed": true,
        "_uuid": "3eec74e08212e3801f60fc8811537fad1adf14fb"
      },
      "cell_type": "code",
      "source": "# percentage of nonsurvivors with family based on class\n",
      "execution_count": null,
      "outputs": []
    },
    {
      "metadata": {
        "trusted": true,
        "_uuid": "c7d9b69918fdbc998f8223fca2f236878759f91f"
      },
      "cell_type": "code",
      "source": "# implement random forest regression\n\nfrom sklearn.ensemble import RandomForestClassifier\nregressor = RandomForestClassifier(n_estimators = 5)\nregressor.fit(X, y)\npred = regressor.predict(X_test)\ntype(y_test)\ntype(pred)\na = (pred == y_test).tolist()\ncount = 0\ntotal = 0\nfor i in a:\n    total += 1\n    if(i):\n        count += 1\n(count/total) * 100",
      "execution_count": 58,
      "outputs": [
        {
          "output_type": "execute_result",
          "execution_count": 58,
          "data": {
            "text/plain": "16.74641148325359"
          },
          "metadata": {}
        }
      ]
    }
  ],
  "metadata": {
    "kernelspec": {
      "display_name": "Python 3",
      "language": "python",
      "name": "python3"
    },
    "language_info": {
      "name": "python",
      "version": "3.6.5",
      "mimetype": "text/x-python",
      "codemirror_mode": {
        "name": "ipython",
        "version": 3
      },
      "pygments_lexer": "ipython3",
      "nbconvert_exporter": "python",
      "file_extension": ".py"
    }
  },
  "nbformat": 4,
  "nbformat_minor": 1
}