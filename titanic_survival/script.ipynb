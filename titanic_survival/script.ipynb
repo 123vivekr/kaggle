{
 "cells": [
  {
   "cell_type": "code",
   "execution_count": 223,
   "metadata": {},
   "outputs": [],
   "source": [
    "import numpy as np\n",
    "import pandas as pd\n",
    "\n",
    "train = pd.read_csv(\"dataset/train.csv\")\n",
    "test = pd.read_csv(\"dataset/test.csv\")\n",
    "passengerID_test = test[\"PassengerId\"]\n",
    "train = train.drop(columns=[\"PassengerId\", \"Name\", \"Ticket\", \"Fare\", \"Cabin\", \"Embarked\"])\n",
    "test = test.drop(columns=[\"PassengerId\", \"Name\", \"Ticket\", \"Fare\", \"Cabin\", \"Embarked\"]).values\n",
    "X, y = train.drop(columns=[\"Survived\"]).values, train['Survived'].values"
   ]
  },
  {
   "cell_type": "code",
   "execution_count": 224,
   "metadata": {},
   "outputs": [
    {
     "data": {
      "text/plain": [
       "((90, 5), (801, 5))"
      ]
     },
     "execution_count": 224,
     "metadata": {},
     "output_type": "execute_result"
    }
   ],
   "source": [
    "from sklearn.preprocessing import Imputer, LabelEncoder\n",
    "\n",
    "# filling missing values of age\n",
    "## train set\n",
    "imputer = Imputer(missing_values='NaN', strategy='most_frequent', axis=0)\n",
    "imputer = imputer.fit(X_test[:, 2:3])\n",
    "X[:, 2:3] = imputer.transform(X[:, 2:3])\n",
    "## test set\n",
    "imputer2 = Imputer(missing_values='NaN', strategy='most_frequent', axis=0)\n",
    "imputer2 = imputer2.fit(test[:, 2:3])\n",
    "test[:, 2:3] = imputer2.transform(test[:, 2:3])\n",
    "\n",
    "# encoding categorical data\n",
    "## train set\n",
    "labelencoder_X = LabelEncoder()\n",
    "X[:, 1] = labelencoder_X.fit_transform(X[:, 1])\n",
    "## test set\n",
    "labelencoder_X_test = LabelEncoder()\n",
    "test[:, 1] = labelencoder_X_test.fit_transform(test[:, 1])\n",
    "\n",
    "from sklearn.model_selection import train_test_split\n",
    "X_train, X_test, y_train, y_test = train_test_split(X, y, test_size=0.1, random_state=0)\n",
    "X_test.shape, X_train.shape"
   ]
  },
  {
   "cell_type": "code",
   "execution_count": 225,
   "metadata": {},
   "outputs": [
    {
     "data": {
      "text/plain": [
       "array([[44,  7],\n",
       "       [ 9, 30]])"
      ]
     },
     "execution_count": 225,
     "metadata": {},
     "output_type": "execute_result"
    }
   ],
   "source": [
    "# logistic regression\n",
    "from sklearn.linear_model import LogisticRegression\n",
    "classifier = LogisticRegression(random_state=0)\n",
    "classifier.fit(X_train, y_train)\n",
    "y_pred = classifier.predict(X_test)\n",
    "\n",
    "from sklearn.metrics import confusion_matrix\n",
    "cm = confusion_matrix(y_test, y_pred)\n",
    "cm"
   ]
  },
  {
   "cell_type": "code",
   "execution_count": 235,
   "metadata": {},
   "outputs": [],
   "source": [
    "result = classifier.predict(test)\n",
    "result.shape\n",
    "result = pd.DataFrame(data={\"PassengerId\": passengerID_test, \"Survived\": result})\n",
    "result.to_csv('result.csv', index=False)"
   ]
  }
 ],
 "metadata": {
  "kernelspec": {
   "display_name": "Python 3",
   "language": "python",
   "name": "python3"
  },
  "language_info": {
   "codemirror_mode": {
    "name": "ipython",
    "version": 3
   },
   "file_extension": ".py",
   "mimetype": "text/x-python",
   "name": "python",
   "nbconvert_exporter": "python",
   "pygments_lexer": "ipython3",
   "version": "3.6.5"
  }
 },
 "nbformat": 4,
 "nbformat_minor": 2
}
